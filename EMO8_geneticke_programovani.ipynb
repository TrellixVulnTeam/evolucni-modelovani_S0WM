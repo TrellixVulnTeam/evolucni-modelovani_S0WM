{
 "cells": [
  {
   "cell_type": "markdown",
   "metadata": {},
   "source": [
    "knihovna pro gp\n",
    "https://deap.readthedocs.io/en/master/tutorials/advanced/gp.html"
   ]
  },
  {
   "cell_type": "code",
   "execution_count": null,
   "metadata": {},
   "outputs": [],
   "source": []
  }
 ],
 "metadata": {
  "language_info": {
   "name": "python"
  },
  "orig_nbformat": 4
 },
 "nbformat": 4,
 "nbformat_minor": 2
}
